{
 "cells": [
  {
   "cell_type": "code",
   "execution_count": 2,
   "metadata": {},
   "outputs": [
    {
     "ename": "OSError",
     "evalue": "pdftotext not installed. Can be downloaded from https://poppler.freedesktop.org/",
     "output_type": "error",
     "traceback": [
      "\u001b[1;31m---------------------------------------------------------------------------\u001b[0m",
      "\u001b[1;31mOSError\u001b[0m                                   Traceback (most recent call last)",
      "Cell \u001b[1;32mIn[2], line 5\u001b[0m\n\u001b[0;32m      2\u001b[0m \u001b[39mfrom\u001b[39;00m \u001b[39minvoice2data\u001b[39;00m\u001b[39m.\u001b[39;00m\u001b[39mextract\u001b[39;00m\u001b[39m.\u001b[39;00m\u001b[39mloader\u001b[39;00m \u001b[39mimport\u001b[39;00m read_templates\n\u001b[0;32m      4\u001b[0m templates \u001b[39m=\u001b[39m read_templates(\u001b[39m'\u001b[39m\u001b[39m/work/templates/invoice.yml\u001b[39m\u001b[39m'\u001b[39m)\n\u001b[1;32m----> 5\u001b[0m result \u001b[39m=\u001b[39m extract_data(\u001b[39m'\u001b[39;49m\u001b[39mwork/data/lowes_bill_2.pdf\u001b[39;49m\u001b[39m'\u001b[39;49m, templates\u001b[39m=\u001b[39;49mtemplates)\n",
      "File \u001b[1;32md:\\WappnetProjects\\invoice reading with easyocr\\.venv\\lib\\site-packages\\invoice2data\\main.py:93\u001b[0m, in \u001b[0;36mextract_data\u001b[1;34m(invoicefile, templates, input_module)\u001b[0m\n\u001b[0;32m     90\u001b[0m     \u001b[39melse\u001b[39;00m:\n\u001b[0;32m     91\u001b[0m         input_module \u001b[39m=\u001b[39m pdftotext\n\u001b[1;32m---> 93\u001b[0m extracted_str \u001b[39m=\u001b[39m input_module\u001b[39m.\u001b[39;49mto_text(invoicefile)\u001b[39m.\u001b[39mdecode(\u001b[39m\"\u001b[39m\u001b[39mutf-8\u001b[39m\u001b[39m\"\u001b[39m)\n\u001b[0;32m     94\u001b[0m \u001b[39mif\u001b[39;00m \u001b[39mnot\u001b[39;00m \u001b[39misinstance\u001b[39m(extracted_str, \u001b[39mstr\u001b[39m) \u001b[39mor\u001b[39;00m \u001b[39mnot\u001b[39;00m extracted_str\u001b[39m.\u001b[39mstrip():\n\u001b[0;32m     95\u001b[0m     logger\u001b[39m.\u001b[39merror(\u001b[39m\"\u001b[39m\u001b[39mFailed to extract text from \u001b[39m\u001b[39m%s\u001b[39;00m\u001b[39m using \u001b[39m\u001b[39m%s\u001b[39;00m\u001b[39m\"\u001b[39m, invoicefile, input_module\u001b[39m.\u001b[39m\u001b[39m__name__\u001b[39m)\n",
      "File \u001b[1;32md:\\WappnetProjects\\invoice reading with easyocr\\.venv\\lib\\site-packages\\invoice2data\\input\\pdftotext.py:55\u001b[0m, in \u001b[0;36mto_text\u001b[1;34m(path, area_details)\u001b[0m\n\u001b[0;32m     53\u001b[0m     \u001b[39mreturn\u001b[39;00m out\n\u001b[0;32m     54\u001b[0m \u001b[39melse\u001b[39;00m:\n\u001b[1;32m---> 55\u001b[0m     \u001b[39mraise\u001b[39;00m \u001b[39mEnvironmentError\u001b[39;00m(\n\u001b[0;32m     56\u001b[0m         \u001b[39m\"\u001b[39m\u001b[39mpdftotext not installed. Can be downloaded from https://poppler.freedesktop.org/\u001b[39m\u001b[39m\"\u001b[39m\n\u001b[0;32m     57\u001b[0m     )\n",
      "\u001b[1;31mOSError\u001b[0m: pdftotext not installed. Can be downloaded from https://poppler.freedesktop.org/"
     ]
    }
   ],
   "source": [
    "from invoice2data import extract_data\n",
    "from invoice2data.extract.loader import read_templates\n",
    "\n",
    "templates = read_templates('/work/templates/invoice.yml')\n",
    "result = extract_data('work/data/lowes_bill_2.pdf', templates=templates)"
   ]
  },
  {
   "cell_type": "code",
   "execution_count": null,
   "metadata": {},
   "outputs": [],
   "source": []
  }
 ],
 "metadata": {
  "kernelspec": {
   "display_name": ".venv",
   "language": "python",
   "name": "python3"
  },
  "language_info": {
   "codemirror_mode": {
    "name": "ipython",
    "version": 3
   },
   "file_extension": ".py",
   "mimetype": "text/x-python",
   "name": "python",
   "nbconvert_exporter": "python",
   "pygments_lexer": "ipython3",
   "version": "3.10.4"
  },
  "orig_nbformat": 4,
  "vscode": {
   "interpreter": {
    "hash": "3f11c9733d1ff40add6e74809438ce7c6edf166b22a10c149a02312dee8b3ddf"
   }
  }
 },
 "nbformat": 4,
 "nbformat_minor": 2
}
